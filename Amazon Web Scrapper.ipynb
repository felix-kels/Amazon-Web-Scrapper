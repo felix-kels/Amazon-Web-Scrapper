{
 "cells": [
  {
   "cell_type": "code",
   "execution_count": 7,
   "id": "a2932994",
   "metadata": {},
   "outputs": [],
   "source": [
    "# import libraries\n",
    "\n",
    "from bs4 import BeautifulSoup\n",
    "import requests\n",
    "import smtplib\n",
    "import time\n",
    "import datetime\n",
    "import csv"
   ]
  },
  {
   "cell_type": "code",
   "execution_count": 8,
   "id": "88eb8e4f",
   "metadata": {},
   "outputs": [
    {
     "name": "stdout",
     "output_type": "stream",
     "text": [
      "\n",
      "            My Flavor'ite Blends an Amish Cookbook\n",
      "           \n",
      "\n",
      "                           $38.28\n",
      "                          \n",
      "\n",
      "\n",
      "\n",
      "\n",
      "\n",
      "                  4.4 out of 5 stars\n",
      "                 \n",
      "\n",
      "\n",
      "\n",
      "\n",
      "\n",
      "\n",
      "\n",
      "\n",
      "\n",
      "               10 ratings\n",
      "              \n"
     ]
    }
   ],
   "source": [
    "# connecting to website\n",
    "\n",
    "URL = \"https://www.amazon.com/My-Flavorite-Blends-Amish-Cookbook/dp/0998315508/ref=sr_1_1?keywords=cookbook+discount&qid=1681871582&sprefix=cookbook+%2B+no+discou%2Caps%2C408&sr=8-1\"\n",
    "\n",
    "headers = {\"User-Agent\": \"Mozilla/5.0 (Windows NT 10.0; Win64; x64) AppleWebKit/537.36 (KHTML, like Gecko) Chrome/111.0.0.0 Safari/537.36\", \"Accept-Encoding\": \"gzip, deflate\", \"Accept\": \"text/html,application/xhtml+xml,application/xml;q=0.9,image/avif,image/webp,image/apng,*/*;q=0.8,application/signed-exchange;v=b3;q=0.7\", \"DNT\":\"1\", \"Connection\":\"close\", \"Upgrade-Insecure-Requests\":\"1\"}\n",
    "\n",
    "page = requests.get(URL, headers=headers)\n",
    "\n",
    "soup1 = BeautifulSoup(page.content, \"html.parser\")\n",
    "\n",
    "soup2 = BeautifulSoup(soup1.prettify(), \"html.parser\")\n",
    "\n",
    "title = soup2.find(id=\"productTitle\").get_text()\n",
    "\n",
    "price = soup2.find(id=\"price\").get_text()\n",
    "\n",
    "rating = soup2.find(id=\"acrPopover\").get_text()\n",
    "\n",
    "reviews = soup2.find(id=\"acrCustomerReviewText\").get_text()\n",
    "\n",
    "\n",
    "\n",
    "\n",
    "print(title)\n",
    "print(price)\n",
    "print(rating)\n",
    "print(reviews)"
   ]
  },
  {
   "cell_type": "code",
   "execution_count": 9,
   "id": "f3b744ca",
   "metadata": {},
   "outputs": [
    {
     "name": "stdout",
     "output_type": "stream",
     "text": [
      "My Flavor'ite Blends an Amish Cookbook\n",
      "4.4 out of 5 stars\n",
      "10 ratings\n",
      "$38.28\n"
     ]
    }
   ],
   "source": [
    "price = price.strip()\n",
    "title = title.strip()\n",
    "rating = rating.strip()\n",
    "reviews = reviews.strip()\n",
    "\n",
    "print(title)\n",
    "print(rating)\n",
    "print(reviews)\n",
    "print(price)\n"
   ]
  },
  {
   "cell_type": "code",
   "execution_count": 10,
   "id": "2251bdd5",
   "metadata": {},
   "outputs": [
    {
     "name": "stdout",
     "output_type": "stream",
     "text": [
      "2023-04-19\n"
     ]
    }
   ],
   "source": [
    "import datetime\n",
    "\n",
    "today = datetime.date.today()\n",
    "\n",
    "print(today)"
   ]
  },
  {
   "cell_type": "code",
   "execution_count": 11,
   "id": "76e60ba1",
   "metadata": {},
   "outputs": [],
   "source": [
    "header = ['Title', 'Rating', 'Reviews', 'Price', 'Date']\n",
    "data = [title, rating, reviews, price, today]\n",
    "\n",
    "with open('AmazonWebScrapper.csv', 'w', newline='', encoding='UTF8') as f:\n",
    "    writer = csv.writer(f)\n",
    "    writer.writerows([header, data])\n"
   ]
  },
  {
   "cell_type": "code",
   "execution_count": 12,
   "id": "6aa32ba6",
   "metadata": {},
   "outputs": [
    {
     "name": "stdout",
     "output_type": "stream",
     "text": [
      "                                    Title              Rating     Reviews  \\\n",
      "0  My Flavor'ite Blends an Amish Cookbook  4.4 out of 5 stars  10 ratings   \n",
      "\n",
      "    Price        Date  \n",
      "0  $38.28  2023-04-19  \n"
     ]
    }
   ],
   "source": [
    "import pandas as pd\n",
    "\n",
    "df = pd.read_csv(r'C:\\Users\\Work\\AmazonWebScrapper.csv')\n",
    "\n",
    "print(df)"
   ]
  },
  {
   "cell_type": "code",
   "execution_count": 13,
   "id": "2b48770e",
   "metadata": {},
   "outputs": [],
   "source": [
    "# Appending data to the csv\n",
    "\n",
    "with open('AmazonWebScrapper.csv', 'a+', newline='', encoding='UTF8') as f:\n",
    "    writer = csv.writer(f)\n",
    "    writer.writerow(data)\n"
   ]
  },
  {
   "cell_type": "code",
   "execution_count": 14,
   "id": "e03fa58c",
   "metadata": {},
   "outputs": [],
   "source": [
    "def check_price():\n",
    "    URL = \"https://www.amazon.com/My-Flavorite-Blends-Amish-Cookbook/dp/0998315508/ref=sr_1_1?keywords=cookbook+discount&qid=1681871582&sprefix=cookbook+%2B+no+discou%2Caps%2C408&sr=8-1\"\n",
    "\n",
    "    headers = {\"User-Agent\": \"Mozilla/5.0 (Windows NT 10.0; Win64; x64) AppleWebKit/537.36 (KHTML, like Gecko) Chrome/111.0.0.0 Safari/537.36\", \"Accept-Encoding\": \"gzip, deflate\", \"Accept\": \"text/html,application/xhtml+xml,application/xml;q=0.9,image/avif,image/webp,image/apng,*/*;q=0.8,application/signed-exchange;v=b3;q=0.7\", \"DNT\":\"1\", \"Connection\":\"close\", \"Upgrade-Insecure-Requests\":\"1\"}\n",
    "\n",
    "    page = requests.get(URL, headers=headers)\n",
    "\n",
    "    soup1 = BeautifulSoup(page.content, \"html.parser\")\n",
    "\n",
    "    soup2 = BeautifulSoup(soup1.prettify(), \"html.parser\")\n",
    "\n",
    "    title = soup2.find(id=\"productTitle\").get_text()\n",
    "\n",
    "    price = soup2.find(id=\"price\").get_text()\n",
    "\n",
    "    rating = soup2.find(id=\"acrPopover\").get_text()\n",
    "\n",
    "    reviews = soup2.find(id=\"acrCustomerReviewText\").get_text()\n",
    "\n",
    "    \n",
    "    \n",
    "    title = title.strip()\n",
    "    price = price.strip()\n",
    "    rating = rating.strip()\n",
    "    reviews = reviews.strip()\n",
    "    \n",
    "    \n",
    "    import datetime\n",
    "\n",
    "    today = datetime.date.today()\n",
    "\n",
    "    header = ['Title', 'Rating', 'Reviews', 'Price', 'Date']\n",
    "    data = [title, rating, reviews, price, today]\n",
    "    \n",
    "    with open('AmazonWebScrapper.csv', 'a+', newline='', encoding='UTF8') as f:\n",
    "        writer = csv.writer(f)\n",
    "        writer.writerow(data)\n",
    "    "
   ]
  },
  {
   "cell_type": "code",
   "execution_count": null,
   "id": "8e53181e",
   "metadata": {},
   "outputs": [],
   "source": [
    "while(True):\n",
    "    check_price()\n",
    "    time.sleep(5)"
   ]
  },
  {
   "cell_type": "code",
   "execution_count": 1,
   "id": "5ec17010",
   "metadata": {},
   "outputs": [
    {
     "name": "stdout",
     "output_type": "stream",
     "text": [
      "                                    Title              Rating     Reviews  \\\n",
      "0  My Flavor'ite Blends an Amish Cookbook  4.4 out of 5 stars  10 ratings   \n",
      "1  My Flavor'ite Blends an Amish Cookbook  4.4 out of 5 stars  10 ratings   \n",
      "\n",
      "    Price        Date  \n",
      "0  $38.28  2023-04-19  \n",
      "1  $38.28  2023-04-19  \n"
     ]
    }
   ],
   "source": [
    "import pandas as pd\n",
    "\n",
    "df = pd.read_csv(r'C:\\Users\\Work\\AmazonWebScrapper.csv')\n",
    "\n",
    "print(df)"
   ]
  },
  {
   "cell_type": "code",
   "execution_count": null,
   "id": "1407d311",
   "metadata": {},
   "outputs": [],
   "source": []
  },
  {
   "cell_type": "code",
   "execution_count": null,
   "id": "4883cb51",
   "metadata": {},
   "outputs": [],
   "source": []
  }
 ],
 "metadata": {
  "kernelspec": {
   "display_name": "Python 3 (ipykernel)",
   "language": "python",
   "name": "python3"
  },
  "language_info": {
   "codemirror_mode": {
    "name": "ipython",
    "version": 3
   },
   "file_extension": ".py",
   "mimetype": "text/x-python",
   "name": "python",
   "nbconvert_exporter": "python",
   "pygments_lexer": "ipython3",
   "version": "3.9.13"
  }
 },
 "nbformat": 4,
 "nbformat_minor": 5
}
